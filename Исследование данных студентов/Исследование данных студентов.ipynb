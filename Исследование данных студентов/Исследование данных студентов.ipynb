{
 "cells": [
  {
   "cell_type": "markdown",
   "id": "d6a82954-1b58-444e-b684-12148c80f913",
   "metadata": {},
   "source": [
    "Данный проект посвящён анализу данных о студентах, включающих информацию об их поле, направлении обучения и итоговых оценках.\n",
    "Основная цель — понять общие закономерности в распределении студентов, сравнить результаты по разным программам и визуализировать ключевые показатели."
   ]
  },
  {
   "cell_type": "code",
   "execution_count": 64,
   "id": "c930f479-a7ea-4126-a91b-87b85ef74f00",
   "metadata": {},
   "outputs": [],
   "source": [
    "import pandas as pd\n",
    "import matplotlib.pyplot as plt\n",
    "import seaborn as sns\n",
    "from scipy.stats import mannwhitneyu"
   ]
  },
  {
   "cell_type": "markdown",
   "id": "d3cfbb77-7ef1-4f21-865b-630f215bc7b2",
   "metadata": {},
   "source": [
    "## 1) Импортируйте данные из CSV файла"
   ]
  },
  {
   "cell_type": "code",
   "execution_count": 3,
   "id": "c983eb39-2bb4-4730-ac0b-cee06940b9a1",
   "metadata": {},
   "outputs": [
    {
     "data": {
      "text/html": [
       "<div>\n",
       "<style scoped>\n",
       "    .dataframe tbody tr th:only-of-type {\n",
       "        vertical-align: middle;\n",
       "    }\n",
       "\n",
       "    .dataframe tbody tr th {\n",
       "        vertical-align: top;\n",
       "    }\n",
       "\n",
       "    .dataframe thead th {\n",
       "        text-align: right;\n",
       "    }\n",
       "</style>\n",
       "<table border=\"1\" class=\"dataframe\">\n",
       "  <thead>\n",
       "    <tr style=\"text-align: right;\">\n",
       "      <th></th>\n",
       "      <th>Unnamed: 0</th>\n",
       "      <th>student_id</th>\n",
       "      <th>age</th>\n",
       "      <th>gender</th>\n",
       "      <th>governmental_grant</th>\n",
       "      <th>programm</th>\n",
       "      <th>total_mark</th>\n",
       "    </tr>\n",
       "  </thead>\n",
       "  <tbody>\n",
       "    <tr>\n",
       "      <th>0</th>\n",
       "      <td>0</td>\n",
       "      <td>950938</td>\n",
       "      <td>17</td>\n",
       "      <td>male</td>\n",
       "      <td>0</td>\n",
       "      <td>data_analysis</td>\n",
       "      <td>75</td>\n",
       "    </tr>\n",
       "    <tr>\n",
       "      <th>1</th>\n",
       "      <td>1</td>\n",
       "      <td>935567</td>\n",
       "      <td>18</td>\n",
       "      <td>male</td>\n",
       "      <td>0</td>\n",
       "      <td>data_engineering</td>\n",
       "      <td>68</td>\n",
       "    </tr>\n",
       "    <tr>\n",
       "      <th>2</th>\n",
       "      <td>2</td>\n",
       "      <td>493038</td>\n",
       "      <td>20</td>\n",
       "      <td>male</td>\n",
       "      <td>0</td>\n",
       "      <td>data_analysis</td>\n",
       "      <td>47</td>\n",
       "    </tr>\n",
       "    <tr>\n",
       "      <th>3</th>\n",
       "      <td>3</td>\n",
       "      <td>698896</td>\n",
       "      <td>21</td>\n",
       "      <td>male</td>\n",
       "      <td>0</td>\n",
       "      <td>data_engineering</td>\n",
       "      <td>100</td>\n",
       "    </tr>\n",
       "    <tr>\n",
       "      <th>4</th>\n",
       "      <td>4</td>\n",
       "      <td>787126</td>\n",
       "      <td>21</td>\n",
       "      <td>male</td>\n",
       "      <td>0</td>\n",
       "      <td>data_analysis</td>\n",
       "      <td>48</td>\n",
       "    </tr>\n",
       "    <tr>\n",
       "      <th>...</th>\n",
       "      <td>...</td>\n",
       "      <td>...</td>\n",
       "      <td>...</td>\n",
       "      <td>...</td>\n",
       "      <td>...</td>\n",
       "      <td>...</td>\n",
       "      <td>...</td>\n",
       "    </tr>\n",
       "    <tr>\n",
       "      <th>4995</th>\n",
       "      <td>4995</td>\n",
       "      <td>542080</td>\n",
       "      <td>22</td>\n",
       "      <td>male</td>\n",
       "      <td>0</td>\n",
       "      <td>data_analysis</td>\n",
       "      <td>100</td>\n",
       "    </tr>\n",
       "    <tr>\n",
       "      <th>4996</th>\n",
       "      <td>4996</td>\n",
       "      <td>443982</td>\n",
       "      <td>21</td>\n",
       "      <td>female</td>\n",
       "      <td>1</td>\n",
       "      <td>data_engineering</td>\n",
       "      <td>84</td>\n",
       "    </tr>\n",
       "    <tr>\n",
       "      <th>4997</th>\n",
       "      <td>4997</td>\n",
       "      <td>617473</td>\n",
       "      <td>21</td>\n",
       "      <td>male</td>\n",
       "      <td>0</td>\n",
       "      <td>data_engineering</td>\n",
       "      <td>51</td>\n",
       "    </tr>\n",
       "    <tr>\n",
       "      <th>4998</th>\n",
       "      <td>4998</td>\n",
       "      <td>917387</td>\n",
       "      <td>20</td>\n",
       "      <td>female</td>\n",
       "      <td>0</td>\n",
       "      <td>data_analysis</td>\n",
       "      <td>40</td>\n",
       "    </tr>\n",
       "    <tr>\n",
       "      <th>4999</th>\n",
       "      <td>4999</td>\n",
       "      <td>742984</td>\n",
       "      <td>22</td>\n",
       "      <td>female</td>\n",
       "      <td>0</td>\n",
       "      <td>data_analysis</td>\n",
       "      <td>66</td>\n",
       "    </tr>\n",
       "  </tbody>\n",
       "</table>\n",
       "<p>5000 rows × 7 columns</p>\n",
       "</div>"
      ],
      "text/plain": [
       "      Unnamed: 0  student_id  age  gender  governmental_grant  \\\n",
       "0              0      950938   17    male                   0   \n",
       "1              1      935567   18    male                   0   \n",
       "2              2      493038   20    male                   0   \n",
       "3              3      698896   21    male                   0   \n",
       "4              4      787126   21    male                   0   \n",
       "...          ...         ...  ...     ...                 ...   \n",
       "4995        4995      542080   22    male                   0   \n",
       "4996        4996      443982   21  female                   1   \n",
       "4997        4997      617473   21    male                   0   \n",
       "4998        4998      917387   20  female                   0   \n",
       "4999        4999      742984   22  female                   0   \n",
       "\n",
       "              programm  total_mark  \n",
       "0        data_analysis          75  \n",
       "1     data_engineering          68  \n",
       "2        data_analysis          47  \n",
       "3     data_engineering         100  \n",
       "4        data_analysis          48  \n",
       "...                ...         ...  \n",
       "4995     data_analysis         100  \n",
       "4996  data_engineering          84  \n",
       "4997  data_engineering          51  \n",
       "4998     data_analysis          40  \n",
       "4999     data_analysis          66  \n",
       "\n",
       "[5000 rows x 7 columns]"
      ]
     },
     "execution_count": 3,
     "metadata": {},
     "output_type": "execute_result"
    }
   ],
   "source": [
    "df = pd.read_csv('students_data.csv') # Импортируем CSV-файл `students_data.csv` \n",
    "df"
   ]
  },
  {
   "cell_type": "markdown",
   "id": "8fa65b8a-8c87-4798-8d7b-b70a37d5d679",
   "metadata": {},
   "source": [
    "## 2) Опишите строки и колонки"
   ]
  },
  {
   "cell_type": "code",
   "execution_count": 5,
   "id": "62abcb94-5d69-403c-91bb-fd44481a3d1a",
   "metadata": {},
   "outputs": [
    {
     "name": "stdout",
     "output_type": "stream",
     "text": [
      "<class 'pandas.core.frame.DataFrame'>\n",
      "RangeIndex: 5000 entries, 0 to 4999\n",
      "Data columns (total 7 columns):\n",
      " #   Column              Non-Null Count  Dtype \n",
      "---  ------              --------------  ----- \n",
      " 0   Unnamed: 0          5000 non-null   int64 \n",
      " 1   student_id          5000 non-null   int64 \n",
      " 2   age                 5000 non-null   int64 \n",
      " 3   gender              5000 non-null   object\n",
      " 4   governmental_grant  5000 non-null   int64 \n",
      " 5   programm            5000 non-null   object\n",
      " 6   total_mark          5000 non-null   int64 \n",
      "dtypes: int64(5), object(2)\n",
      "memory usage: 273.6+ KB\n"
     ]
    }
   ],
   "source": [
    "df.info() # Изучаем структуру файла с помощью .info()"
   ]
  },
  {
   "cell_type": "markdown",
   "id": "95a6ffae-f92e-4b1f-8c6f-a5e58a4bef41",
   "metadata": {},
   "source": [
    "В данных содержатся 5000 строк и 7 колонок, такие как: Unnamed: 0 (совпадает с id в таблице), id студентов, возраст, пол, наличие или отсутствие гранта, специальность и оценка."
   ]
  },
  {
   "cell_type": "markdown",
   "id": "080a80c5-a6c2-459e-ac86-8eeca8c8d1c8",
   "metadata": {},
   "source": [
    "## 3) Посчитайте количество студентов, сгруппированных по полам и программам обучения"
   ]
  },
  {
   "cell_type": "code",
   "execution_count": 2,
   "id": "b0a94dfb-5af8-4499-a11c-5c886fad8b07",
   "metadata": {},
   "outputs": [
    {
     "ename": "NameError",
     "evalue": "name 'df' is not defined",
     "output_type": "error",
     "traceback": [
      "\u001b[1;31m---------------------------------------------------------------------------\u001b[0m",
      "\u001b[1;31mNameError\u001b[0m                                 Traceback (most recent call last)",
      "Cell \u001b[1;32mIn[2], line 1\u001b[0m\n\u001b[1;32m----> 1\u001b[0m amount \u001b[38;5;241m=\u001b[39m df\u001b[38;5;241m.\u001b[39mgroupby([\u001b[38;5;124m'\u001b[39m\u001b[38;5;124mgender\u001b[39m\u001b[38;5;124m'\u001b[39m, \u001b[38;5;124m'\u001b[39m\u001b[38;5;124mprogramm\u001b[39m\u001b[38;5;124m'\u001b[39m])\u001b[38;5;241m.\u001b[39msize()\u001b[38;5;241m.\u001b[39mreset_index(name\u001b[38;5;241m=\u001b[39m\u001b[38;5;124m'\u001b[39m\u001b[38;5;124mcount\u001b[39m\u001b[38;5;124m'\u001b[39m)\n",
      "\u001b[1;31mNameError\u001b[0m: name 'df' is not defined"
     ]
    }
   ],
   "source": [
    "amount = df.groupby(['gender', 'programm']).size().reset_index(name='count') # Группируем студентов по полу и направлению обучения"
   ]
  },
  {
   "cell_type": "code",
   "execution_count": 9,
   "id": "1434b815-3a4b-42fa-8ad9-21da9c4ff638",
   "metadata": {},
   "outputs": [
    {
     "data": {
      "text/html": [
       "<div>\n",
       "<style scoped>\n",
       "    .dataframe tbody tr th:only-of-type {\n",
       "        vertical-align: middle;\n",
       "    }\n",
       "\n",
       "    .dataframe tbody tr th {\n",
       "        vertical-align: top;\n",
       "    }\n",
       "\n",
       "    .dataframe thead th {\n",
       "        text-align: right;\n",
       "    }\n",
       "</style>\n",
       "<table border=\"1\" class=\"dataframe\">\n",
       "  <thead>\n",
       "    <tr style=\"text-align: right;\">\n",
       "      <th></th>\n",
       "      <th>gender</th>\n",
       "      <th>programm</th>\n",
       "      <th>count</th>\n",
       "    </tr>\n",
       "  </thead>\n",
       "  <tbody>\n",
       "    <tr>\n",
       "      <th>0</th>\n",
       "      <td>female</td>\n",
       "      <td>data_analysis</td>\n",
       "      <td>789</td>\n",
       "    </tr>\n",
       "    <tr>\n",
       "      <th>1</th>\n",
       "      <td>female</td>\n",
       "      <td>data_engineering</td>\n",
       "      <td>494</td>\n",
       "    </tr>\n",
       "    <tr>\n",
       "      <th>2</th>\n",
       "      <td>female</td>\n",
       "      <td>data_science</td>\n",
       "      <td>672</td>\n",
       "    </tr>\n",
       "    <tr>\n",
       "      <th>3</th>\n",
       "      <td>male</td>\n",
       "      <td>data_analysis</td>\n",
       "      <td>889</td>\n",
       "    </tr>\n",
       "    <tr>\n",
       "      <th>4</th>\n",
       "      <td>male</td>\n",
       "      <td>data_engineering</td>\n",
       "      <td>1148</td>\n",
       "    </tr>\n",
       "    <tr>\n",
       "      <th>5</th>\n",
       "      <td>male</td>\n",
       "      <td>data_science</td>\n",
       "      <td>1008</td>\n",
       "    </tr>\n",
       "  </tbody>\n",
       "</table>\n",
       "</div>"
      ],
      "text/plain": [
       "   gender          programm  count\n",
       "0  female     data_analysis    789\n",
       "1  female  data_engineering    494\n",
       "2  female      data_science    672\n",
       "3    male     data_analysis    889\n",
       "4    male  data_engineering   1148\n",
       "5    male      data_science   1008"
      ]
     },
     "execution_count": 9,
     "metadata": {},
     "output_type": "execute_result"
    }
   ],
   "source": [
    "amount"
   ]
  },
  {
   "cell_type": "markdown",
   "id": "77e51807-ee2d-421e-a604-0a702c164605",
   "metadata": {},
   "source": [
    "## 4) Постройте круговую диаграмму, описывающую пропорции мальчиков и девочек, обучающихся в университете."
   ]
  },
  {
   "cell_type": "markdown",
   "id": "d21fdc7a-9a04-4382-b406-9a900a4ee371",
   "metadata": {},
   "source": [
    "gender_count = df['gender'].value_counts()\n",
    "gender_count"
   ]
  },
  {
   "cell_type": "code",
   "execution_count": 19,
   "id": "a91e81a0-4086-4451-904b-9ed2af5132af",
   "metadata": {},
   "outputs": [
    {
     "data": {
      "image/png": "[encoded data removed]",
      "text/plain": [
       "<Figure size 400x400 with 1 Axes>"
      ]
     },
     "metadata": {},
     "output_type": "display_data"
    }
   ],
   "source": [
    "plt.figure(figsize=(4, 4)) # Строим круговую диаграмму, показывающую процентное соотношение студентов разных полов\n",
    "plt.pie(gender_count, labels=gender_count.index, autopct='%1.1f%%', startangle=90)\n",
    "plt.title('Пропорции студентов по полу')\n",
    "plt.axis('equal') \n",
    "plt.show()"
   ]
  },
  {
   "cell_type": "markdown",
   "id": "d84692b0-b8ad-48dc-be50-7e5f97c0dbc9",
   "metadata": {},
   "source": [
    "## 5) Опишите диаграмму"
   ]
  },
  {
   "cell_type": "markdown",
   "id": "93005017-fd34-412a-9b4c-7844fde34fb9",
   "metadata": {},
   "source": [
    "По диаграмме видно, что большинство студентов являются мужского пола, а точнее 60,9%, остальные 39,1% женского пола."
   ]
  },
  {
   "cell_type": "markdown",
   "id": "367a3d56-4478-4e55-963b-2840aaca7855",
   "metadata": {},
   "source": [
    "## 6) Постройте график, который описывает распределение оценок по вашей выборке"
   ]
  },
  {
   "cell_type": "code",
   "execution_count": 30,
   "id": "a7e6a3c9-b3c9-4ad6-953d-174ccdc8e698",
   "metadata": {},
   "outputs": [],
   "source": [
    "grade_distribution = df['total_mark'].value_counts().sort_index()"
   ]
  },
  {
   "cell_type": "code",
   "execution_count": 32,
   "id": "7e10eead-82ee-48f4-b36f-6c3b54ab9263",
   "metadata": {},
   "outputs": [
    {
     "data": {
      "image/png": "[encoded data removed]",
      "text/plain": [
       "<Figure size 1000x500 with 1 Axes>"
      ]
     },
     "metadata": {},
     "output_type": "display_data"
    }
   ],
   "source": [
    "plt.figure(figsize=(10, 5)) # Строим гистограмму для оценки распределения итоговых баллов\n",
    "plt.bar(grade_distribution.index, grade_distribution.values)\n",
    "plt.title('Распределение оценок студентов (total_mark)')\n",
    "plt.xlabel('Оценка')\n",
    "plt.ylabel('Количество студентов')\n",
    "plt.xticks(grade_distribution.index, rotation=45)\n",
    "plt.grid(axis='y', linestyle='--', alpha=0.7)\n",
    "plt.tight_layout()\n",
    "plt.show()"
   ]
  },
  {
   "cell_type": "markdown",
   "id": "1ff42460-c2ee-4c95-a6ce-5fc96d6c3be5",
   "metadata": {},
   "source": [
    "## 7) Опишите график"
   ]
  },
  {
   "cell_type": "markdown",
   "id": "d2f93224-aca3-46c7-a893-2185ccfb439f",
   "metadata": {},
   "source": [
    "По графику можно увидеть, что все студенты набрали оценку больше 40. Больше 100 студентов набрали оценку 71, а меньше всего, чуть больше 60 студентов, набрали 41.\n",
    "Более 90 студентов набрали 100, что говорит об общей хорошей успеваемости.\n",
    "Многие набрали между 45 и 70 баллами.\n",
    "Если в общем смотреть на диаграмму, то она не симметрична и распределение не является нормальным."
   ]
  },
  {
   "cell_type": "markdown",
   "id": "3baf1df6-5bdf-450d-a003-9f33d2b9490b",
   "metadata": {},
   "source": [
    "## 8) Напишите функцию, которая расставит категории от 1-3, в зависимости от выбранной специализации. Например 1- Дата Аналитика, 2 - Дата Саентс, 3 - Дата Инжениринг."
   ]
  },
  {
   "cell_type": "code",
   "execution_count": 45,
   "id": "6bcddaf1-a615-4a2f-b089-e8d4aa45cf5b",
   "metadata": {},
   "outputs": [],
   "source": [
    "def assign_category(specialization):\n",
    "    if specialization.lower() == 'data_analysis':\n",
    "        return 1\n",
    "    elif specialization.lower() == 'data_science':\n",
    "        return 2\n",
    "    elif specialization.lower() == 'data_engineering':\n",
    "        return 3\n",
    "    else:\n",
    "        return 0"
   ]
  },
  {
   "cell_type": "code",
   "execution_count": 47,
   "id": "7d30173e-cb7e-4384-8db7-92a75fff21fd",
   "metadata": {},
   "outputs": [],
   "source": [
    "df['category'] = df['programm'].apply(assign_category)"
   ]
  },
  {
   "cell_type": "code",
   "execution_count": 49,
   "id": "fbd43e5c-06ca-44c3-b55b-75088adf97f6",
   "metadata": {},
   "outputs": [
    {
     "data": {
      "text/html": [
       "<div>\n",
       "<style scoped>\n",
       "    .dataframe tbody tr th:only-of-type {\n",
       "        vertical-align: middle;\n",
       "    }\n",
       "\n",
       "    .dataframe tbody tr th {\n",
       "        vertical-align: top;\n",
       "    }\n",
       "\n",
       "    .dataframe thead th {\n",
       "        text-align: right;\n",
       "    }\n",
       "</style>\n",
       "<table border=\"1\" class=\"dataframe\">\n",
       "  <thead>\n",
       "    <tr style=\"text-align: right;\">\n",
       "      <th></th>\n",
       "      <th>Unnamed: 0</th>\n",
       "      <th>student_id</th>\n",
       "      <th>age</th>\n",
       "      <th>gender</th>\n",
       "      <th>governmental_grant</th>\n",
       "      <th>programm</th>\n",
       "      <th>total_mark</th>\n",
       "      <th>category</th>\n",
       "    </tr>\n",
       "  </thead>\n",
       "  <tbody>\n",
       "    <tr>\n",
       "      <th>0</th>\n",
       "      <td>0</td>\n",
       "      <td>950938</td>\n",
       "      <td>17</td>\n",
       "      <td>male</td>\n",
       "      <td>0</td>\n",
       "      <td>data_analysis</td>\n",
       "      <td>75</td>\n",
       "      <td>1</td>\n",
       "    </tr>\n",
       "    <tr>\n",
       "      <th>1</th>\n",
       "      <td>1</td>\n",
       "      <td>935567</td>\n",
       "      <td>18</td>\n",
       "      <td>male</td>\n",
       "      <td>0</td>\n",
       "      <td>data_engineering</td>\n",
       "      <td>68</td>\n",
       "      <td>3</td>\n",
       "    </tr>\n",
       "    <tr>\n",
       "      <th>2</th>\n",
       "      <td>2</td>\n",
       "      <td>493038</td>\n",
       "      <td>20</td>\n",
       "      <td>male</td>\n",
       "      <td>0</td>\n",
       "      <td>data_analysis</td>\n",
       "      <td>47</td>\n",
       "      <td>1</td>\n",
       "    </tr>\n",
       "    <tr>\n",
       "      <th>3</th>\n",
       "      <td>3</td>\n",
       "      <td>698896</td>\n",
       "      <td>21</td>\n",
       "      <td>male</td>\n",
       "      <td>0</td>\n",
       "      <td>data_engineering</td>\n",
       "      <td>100</td>\n",
       "      <td>3</td>\n",
       "    </tr>\n",
       "    <tr>\n",
       "      <th>4</th>\n",
       "      <td>4</td>\n",
       "      <td>787126</td>\n",
       "      <td>21</td>\n",
       "      <td>male</td>\n",
       "      <td>0</td>\n",
       "      <td>data_analysis</td>\n",
       "      <td>48</td>\n",
       "      <td>1</td>\n",
       "    </tr>\n",
       "    <tr>\n",
       "      <th>...</th>\n",
       "      <td>...</td>\n",
       "      <td>...</td>\n",
       "      <td>...</td>\n",
       "      <td>...</td>\n",
       "      <td>...</td>\n",
       "      <td>...</td>\n",
       "      <td>...</td>\n",
       "      <td>...</td>\n",
       "    </tr>\n",
       "    <tr>\n",
       "      <th>4995</th>\n",
       "      <td>4995</td>\n",
       "      <td>542080</td>\n",
       "      <td>22</td>\n",
       "      <td>male</td>\n",
       "      <td>0</td>\n",
       "      <td>data_analysis</td>\n",
       "      <td>100</td>\n",
       "      <td>1</td>\n",
       "    </tr>\n",
       "    <tr>\n",
       "      <th>4996</th>\n",
       "      <td>4996</td>\n",
       "      <td>443982</td>\n",
       "      <td>21</td>\n",
       "      <td>female</td>\n",
       "      <td>1</td>\n",
       "      <td>data_engineering</td>\n",
       "      <td>84</td>\n",
       "      <td>3</td>\n",
       "    </tr>\n",
       "    <tr>\n",
       "      <th>4997</th>\n",
       "      <td>4997</td>\n",
       "      <td>617473</td>\n",
       "      <td>21</td>\n",
       "      <td>male</td>\n",
       "      <td>0</td>\n",
       "      <td>data_engineering</td>\n",
       "      <td>51</td>\n",
       "      <td>3</td>\n",
       "    </tr>\n",
       "    <tr>\n",
       "      <th>4998</th>\n",
       "      <td>4998</td>\n",
       "      <td>917387</td>\n",
       "      <td>20</td>\n",
       "      <td>female</td>\n",
       "      <td>0</td>\n",
       "      <td>data_analysis</td>\n",
       "      <td>40</td>\n",
       "      <td>1</td>\n",
       "    </tr>\n",
       "    <tr>\n",
       "      <th>4999</th>\n",
       "      <td>4999</td>\n",
       "      <td>742984</td>\n",
       "      <td>22</td>\n",
       "      <td>female</td>\n",
       "      <td>0</td>\n",
       "      <td>data_analysis</td>\n",
       "      <td>66</td>\n",
       "      <td>1</td>\n",
       "    </tr>\n",
       "  </tbody>\n",
       "</table>\n",
       "<p>5000 rows × 8 columns</p>\n",
       "</div>"
      ],
      "text/plain": [
       "      Unnamed: 0  student_id  age  gender  governmental_grant  \\\n",
       "0              0      950938   17    male                   0   \n",
       "1              1      935567   18    male                   0   \n",
       "2              2      493038   20    male                   0   \n",
       "3              3      698896   21    male                   0   \n",
       "4              4      787126   21    male                   0   \n",
       "...          ...         ...  ...     ...                 ...   \n",
       "4995        4995      542080   22    male                   0   \n",
       "4996        4996      443982   21  female                   1   \n",
       "4997        4997      617473   21    male                   0   \n",
       "4998        4998      917387   20  female                   0   \n",
       "4999        4999      742984   22  female                   0   \n",
       "\n",
       "              programm  total_mark  category  \n",
       "0        data_analysis          75         1  \n",
       "1     data_engineering          68         3  \n",
       "2        data_analysis          47         1  \n",
       "3     data_engineering         100         3  \n",
       "4        data_analysis          48         1  \n",
       "...                ...         ...       ...  \n",
       "4995     data_analysis         100         1  \n",
       "4996  data_engineering          84         3  \n",
       "4997  data_engineering          51         3  \n",
       "4998     data_analysis          40         1  \n",
       "4999     data_analysis          66         1  \n",
       "\n",
       "[5000 rows x 8 columns]"
      ]
     },
     "execution_count": 49,
     "metadata": {},
     "output_type": "execute_result"
    }
   ],
   "source": [
    "df"
   ]
  },
  {
   "cell_type": "markdown",
   "id": "828ec5a7-f087-45c5-ad97-b5b0c3339ad1",
   "metadata": {},
   "source": [
    "## 9) Постройте матрицу корреляций и опишите увиденные взаимосвязи"
   ]
  },
  {
   "cell_type": "code",
   "execution_count": 60,
   "id": "3024172b-4ae6-4fa9-8e65-6538af0612b3",
   "metadata": {},
   "outputs": [
    {
     "data": {
      "image/png": "[encoded data removed]",
      "text/plain": [
       "<Figure size 800x600 with 2 Axes>"
      ]
     },
     "metadata": {},
     "output_type": "display_data"
    }
   ],
   "source": [
    "correlation_matrix = df.corr(numeric_only=True)\n",
    "plt.figure(figsize=(8, 6))\n",
    "sns.heatmap(correlation_matrix, annot=True, cmap='coolwarm', fmt=\".2f\", square=True)\n",
    "plt.title('Корреляционная матрица')\n",
    "plt.show()"
   ]
  },
  {
   "cell_type": "markdown",
   "id": "9474c1e2-2408-44a2-94f9-71b6bb4b2ba1",
   "metadata": {},
   "source": [
    "Первое, что можно заметить, это то, что все значения очень близки к нулю, что говорит о слабой зависимости между переменными. Это означает, например, то, что такие факторы как пол или возраст студента слабо влияют на выбранную специальность или оценку."
   ]
  },
  {
   "cell_type": "markdown",
   "id": "845c6c1f-61ac-4832-ac76-bd8ac5e7bbfe",
   "metadata": {},
   "source": [
    "## 10) Проверьте следующие гипотезы:\n",
    "H1 - Пол стат. значимо влияет на конечную оценку total_mark\n",
    "H0 - Пол стат. значимо не влияет на конечную оценку total_mark"
   ]
  },
  {
   "cell_type": "code",
   "execution_count": 66,
   "id": "3badcacd-2052-4dec-8d31-f0932378ac70",
   "metadata": {},
   "outputs": [],
   "source": [
    "male_marks = df[df['gender'] == 'male']['total_mark']\n",
    "female_marks = df[df['gender'] == 'female']['total_mark']"
   ]
  },
  {
   "cell_type": "code",
   "execution_count": 68,
   "id": "20e88352-38c5-469b-9fc9-53fdde2d600c",
   "metadata": {},
   "outputs": [],
   "source": [
    "stat, p = mannwhitneyu(male_marks, female_marks, alternative='two-sided')"
   ]
  },
  {
   "cell_type": "code",
   "execution_count": 70,
   "id": "a53da852-0ca3-4a1d-83b6-f19f5faa5d0a",
   "metadata": {},
   "outputs": [
    {
     "name": "stdout",
     "output_type": "stream",
     "text": [
      "U-статистика: 2994521.00, p-значение: 0.7173\n"
     ]
    }
   ],
   "source": [
    "print(f'U-статистика: {stat:.2f}, p-значение: {p:.4f}')"
   ]
  },
  {
   "cell_type": "code",
   "execution_count": 72,
   "id": "5b2d0c76-c307-4e2c-8689-daf896cb13ea",
   "metadata": {},
   "outputs": [
    {
     "name": "stdout",
     "output_type": "stream",
     "text": [
      "Пол стат. значимо не влияет на конечную оценку\n"
     ]
    }
   ],
   "source": [
    "if p < 0.05:\n",
    "    print(\"Пол стат. значимо влияет на конечную оценку\")\n",
    "else:\n",
    "    print(\"Пол стат. значимо не влияет на конечную оценку\")"
   ]
  },
  {
   "cell_type": "markdown",
   "id": "7f1a5b59-8f5e-4c1b-898c-a6f09de12405",
   "metadata": {},
   "source": [
    "## 11) Опишите ваши выводы и метод для проверки гипотез"
   ]
  },
  {
   "cell_type": "markdown",
   "id": "4c173c09-a634-4bb6-81a9-2031357dd886",
   "metadata": {},
   "source": [
    "Для проверки влияния пола на итоговую оценку был использован тест Манна–Уитни, так как этот тест удобен для сравнения двух независимых выборок, когда распределение может отличаться от нормального.\n",
    "Так как p-значение значительно больше уровня значимости 0.05, мы не отвергаем нулевую гипотезу. Различия в оценках между мальчиками и девочками не являются значимыми. Это так же подтверждалось ранее с помощью матрицы корреляции."
   ]
  },
  {
   "cell_type": "markdown",
   "id": "27d40973-3f18-4232-84a5-ab30b72c1337",
   "metadata": {},
   "source": [
    "## 12) Напишите конечный вывод с вашим заключением, содержащим все прежне перечисленные выводы"
   ]
  },
  {
   "cell_type": "markdown",
   "id": "2a7da57d-b3da-478f-ae1f-9fccbb53895e",
   "metadata": {},
   "source": [
    "Большинство студентов — мужского пола (60,9%), женского — 39,1%. Все получили больше 40 баллов, чаще всего - 71, а более 90 человек набрали 100 баллов. Распределение оценок несимметрично и отличается от нормального.\n",
    "\n",
    "Матрица корреляций показала, что между переменными нет выраженных связей. Для проверки влияния пола на итоговую оценку применён тест Манна–Уитни, показавший что пол не влияет на итоговую оценку.\n",
    "\n",
    "В целом, оценки студентов слабо зависят от пола, возраста и специальности."
   ]
  },
  {
   "cell_type": "code",
   "execution_count": null,
   "id": "e7daa06e-d9fa-4ce4-abea-789b5f5faadc",
   "metadata": {},
   "outputs": [],
   "source": []
  }
 ],
 "metadata": {
  "kernelspec": {
   "display_name": "Python 3 (ipykernel)",
   "language": "python",
   "name": "python3"
  },
  "language_info": {
   "codemirror_mode": {
    "name": "ipython",
    "version": 3
   },
   "file_extension": ".py",
   "mimetype": "text/x-python",
   "name": "python",
   "nbconvert_exporter": "python",
   "pygments_lexer": "ipython3",
   "version": "3.12.4"
  }
 },
 "nbformat": 4,
 "nbformat_minor": 5
}
